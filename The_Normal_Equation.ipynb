{
 "cells": [
  {
   "cell_type": "code",
   "execution_count": 38,
   "id": "048f3a7b-d744-4947-9af2-f1ce47def1c3",
   "metadata": {},
   "outputs": [],
   "source": [
    "import pandas as pd\n",
    "import numpy as np\n",
    "import matplotlib.pyplot as plt\n",
    "from sklearn.preprocessing import add_dummy_feature"
   ]
  },
  {
   "cell_type": "code",
   "execution_count": 13,
   "id": "3ebebbd7-7e7b-41c5-8610-bd3cb643e725",
   "metadata": {},
   "outputs": [
    {
     "data": {
      "text/html": [
       "<div>\n",
       "<style scoped>\n",
       "    .dataframe tbody tr th:only-of-type {\n",
       "        vertical-align: middle;\n",
       "    }\n",
       "\n",
       "    .dataframe tbody tr th {\n",
       "        vertical-align: top;\n",
       "    }\n",
       "\n",
       "    .dataframe thead th {\n",
       "        text-align: right;\n",
       "    }\n",
       "</style>\n",
       "<table border=\"1\" class=\"dataframe\">\n",
       "  <thead>\n",
       "    <tr style=\"text-align: right;\">\n",
       "      <th></th>\n",
       "      <th>YearsExperience</th>\n",
       "      <th>Salary</th>\n",
       "    </tr>\n",
       "  </thead>\n",
       "  <tbody>\n",
       "    <tr>\n",
       "      <th>0</th>\n",
       "      <td>1.2</td>\n",
       "      <td>39344.0</td>\n",
       "    </tr>\n",
       "    <tr>\n",
       "      <th>1</th>\n",
       "      <td>1.4</td>\n",
       "      <td>46206.0</td>\n",
       "    </tr>\n",
       "    <tr>\n",
       "      <th>2</th>\n",
       "      <td>1.6</td>\n",
       "      <td>37732.0</td>\n",
       "    </tr>\n",
       "    <tr>\n",
       "      <th>3</th>\n",
       "      <td>2.1</td>\n",
       "      <td>43526.0</td>\n",
       "    </tr>\n",
       "    <tr>\n",
       "      <th>4</th>\n",
       "      <td>2.3</td>\n",
       "      <td>39892.0</td>\n",
       "    </tr>\n",
       "  </tbody>\n",
       "</table>\n",
       "</div>"
      ],
      "text/plain": [
       "   YearsExperience   Salary\n",
       "0              1.2  39344.0\n",
       "1              1.4  46206.0\n",
       "2              1.6  37732.0\n",
       "3              2.1  43526.0\n",
       "4              2.3  39892.0"
      ]
     },
     "execution_count": 13,
     "metadata": {},
     "output_type": "execute_result"
    }
   ],
   "source": [
    "df = pd.read_csv('./Salary_dataset.csv')\n",
    "df = df.iloc[:, 1:] #first column was just indexes we are removing that\n",
    "df.head()"
   ]
  },
  {
   "cell_type": "markdown",
   "id": "44a7111d-5ea4-41b5-b192-b4798388c592",
   "metadata": {},
   "source": [
    "#### Plotting Data"
   ]
  },
  {
   "cell_type": "code",
   "execution_count": 17,
   "id": "524362b2-6603-4b80-ae3a-3df7be8e38e8",
   "metadata": {},
   "outputs": [
    {
     "data": {
      "image/png": "[encoded data removed]",
      "text/plain": [
       "<Figure size 640x480 with 1 Axes>"
      ]
     },
     "metadata": {},
     "output_type": "display_data"
    }
   ],
   "source": [
    "plt.scatter(df['YearsExperience'], df['Salary'])\n",
    "plt.xlabel('YOE')\n",
    "plt.ylabel('Salary')\n",
    "plt.show()"
   ]
  },
  {
   "cell_type": "markdown",
   "id": "dbc5cc02-067a-45a5-afef-7351aa2282db",
   "metadata": {},
   "source": [
    "### Normal Equation"
   ]
  },
  {
   "cell_type": "markdown",
   "id": "a623b3d5-578e-44bc-80a6-ed65a1ea5ff8",
   "metadata": {},
   "source": [
    "The normal equation is a closed form solution to linear regression. It is a mathematical equation that finds the value of the parameter vector that minimizes the cost function. The normal equation is given by: $$\\hat{\\theta} = (X^{T}X)^{-1}X^{T}y$$"
   ]
  },
  {
   "cell_type": "code",
   "execution_count": 54,
   "id": "b7e70056-c03e-4fa0-8797-7b15256421ec",
   "metadata": {},
   "outputs": [],
   "source": [
    "X = df['YearsExperience'].values #.values turns these values into a np array\n",
    "#turning X into a matrix\n",
    "X = X.reshape(-1,1)\n",
    "#adding our 1s in first column to be the weights for theta 0\n",
    "X = add_dummy_feature(X)\n",
    "#y vector\n",
    "y = df['Salary'].values"
   ]
  },
  {
   "cell_type": "markdown",
   "id": "9f81609d-3a58-4dc7-9005-e4c1561cf3dd",
   "metadata": {},
   "source": [
    "#### Creating function for the normal equation"
   ]
  },
  {
   "cell_type": "code",
   "execution_count": 40,
   "id": "6d03fe2a-aebd-4ecf-874f-21d7665583e8",
   "metadata": {},
   "outputs": [],
   "source": [
    "def normal_equation(X, y):\n",
    "    return np.linalg.inv(X.T.dot(X)).dot(X.T).dot(y)"
   ]
  },
  {
   "cell_type": "code",
   "execution_count": 41,
   "id": "30a6de33-7345-4c30-94fc-fc343bab8fe1",
   "metadata": {},
   "outputs": [],
   "source": [
    "theta = normal_equation(X, y)"
   ]
  },
  {
   "cell_type": "code",
   "execution_count": 43,
   "id": "65c45939-bdfd-4a1e-8280-bd9f6c5dab11",
   "metadata": {},
   "outputs": [
    {
     "data": {
      "text/plain": [
       "array([[24848.20396652],\n",
       "       [ 9449.96232146]])"
      ]
     },
     "execution_count": 43,
     "metadata": {},
     "output_type": "execute_result"
    }
   ],
   "source": [
    "theta\n",
    "#our b value (theta_0) = 24848.20396652\n",
    "#our theta_1 = 9449.96232146"
   ]
  },
  {
   "cell_type": "code",
   "execution_count": 48,
   "id": "150382a5-9b01-496a-926f-94c9fa975bda",
   "metadata": {},
   "outputs": [
    {
     "data": {
      "text/plain": [
       "array([[ 36188.15875227],\n",
       "       [ 38078.15121656],\n",
       "       [ 39968.14368085],\n",
       "       [ 44693.12484158],\n",
       "       [ 46583.11730587],\n",
       "       [ 53198.09093089],\n",
       "       [ 54143.08716303],\n",
       "       [ 56033.07962732],\n",
       "       [ 56033.07962732],\n",
       "       [ 60758.06078805],\n",
       "       [ 62648.05325234],\n",
       "       [ 63593.04948449],\n",
       "       [ 63593.04948449],\n",
       "       [ 64538.04571663],\n",
       "       [ 68318.03064522],\n",
       "       [ 72098.0155738 ],\n",
       "       [ 73988.00803809],\n",
       "       [ 75878.00050238],\n",
       "       [ 81547.97789525],\n",
       "       [ 82492.9741274 ],\n",
       "       [ 90052.94398456],\n",
       "       [ 92887.932681  ],\n",
       "       [100447.90253816],\n",
       "       [103282.8912346 ],\n",
       "       [108007.87239533],\n",
       "       [110842.86109176],\n",
       "       [115567.84225249],\n",
       "       [116512.83848464],\n",
       "       [123127.81210966],\n",
       "       [125017.80457395]])"
      ]
     },
     "execution_count": 48,
     "metadata": {},
     "output_type": "execute_result"
    }
   ],
   "source": [
    "#Outputting our predictions for each training element\n",
    "predictions = X.dot(theta)\n",
    "\n",
    "predictions"
   ]
  },
  {
   "cell_type": "code",
   "execution_count": 49,
   "id": "39331510-55b9-4b7a-8d79-e26a45d4c601",
   "metadata": {},
   "outputs": [
    {
     "data": {
      "image/png": "[encoded data removed]",
      "text/plain": [
       "<Figure size 640x480 with 1 Axes>"
      ]
     },
     "metadata": {},
     "output_type": "display_data"
    }
   ],
   "source": [
    "#Plotting our predictions\n",
    "plt.scatter(df['YearsExperience'], df['Salary'])\n",
    "plt.xlabel('YOE')\n",
    "plt.ylabel('Salary')\n",
    "plt.plot(df['YearsExperience'], predictions, color = 'red')\n",
    "plt.show()"
   ]
  }
 ],
 "metadata": {
  "kernelspec": {
   "display_name": "Python 3 (ipykernel)",
   "language": "python",
   "name": "python3"
  },
  "language_info": {
   "codemirror_mode": {
    "name": "ipython",
    "version": 3
   },
   "file_extension": ".py",
   "mimetype": "text/x-python",
   "name": "python",
   "nbconvert_exporter": "python",
   "pygments_lexer": "ipython3",
   "version": "3.10.5"
  }
 },
 "nbformat": 4,
 "nbformat_minor": 5
}
