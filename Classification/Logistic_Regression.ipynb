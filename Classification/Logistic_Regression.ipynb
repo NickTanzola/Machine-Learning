{
 "cells": [
  {
   "cell_type": "code",
   "execution_count": 4,
   "id": "9da2e89e-6b43-46ce-9d58-932eebfaf542",
   "metadata": {},
   "outputs": [],
   "source": [
    "import math, copy\n",
    "import numpy as np\n",
    "import matplotlib.pyplot as plt"
   ]
  },
  {
   "cell_type": "markdown",
   "id": "4528008c-b55f-49e1-8ed7-850ea07edf81",
   "metadata": {},
   "source": [
    "#### Data"
   ]
  },
  {
   "cell_type": "code",
   "execution_count": 5,
   "id": "bfce2697-206f-4825-bc3a-56cf50c18768",
   "metadata": {},
   "outputs": [],
   "source": [
    "X_train = np.array([[0.5, 1.5], [1,1], [1.5, 0.5], [3, 0.5], [2, 2], [1, 2.5]])  #(m,n)\n",
    "y_train = np.array([0, 0, 0, 1, 1, 1])                                           #(m,)"
   ]
  },
  {
   "cell_type": "markdown",
   "id": "7c53576f-b953-48f7-a189-425082e9a8b5",
   "metadata": {},
   "source": [
    "#### Plotting Data"
   ]
  },
  {
   "cell_type": "code",
   "execution_count": 6,
   "id": "3d640bee-c676-476e-82af-6c4c14df8aa6",
   "metadata": {},
   "outputs": [
    {
     "data": {
      "image/png": "[encoded data removed]",
      "text/plain": [
       "<Figure size 640x480 with 1 Axes>"
      ]
     },
     "metadata": {},
     "output_type": "display_data"
    }
   ],
   "source": [
    "# Split by class label\n",
    "pos = y_train == 1\n",
    "neg = y_train == 0\n",
    "\n",
    "# Plot\n",
    "plt.scatter(X_train[neg, 0], X_train[neg, 1], c='blue', marker='o', label='y=0')\n",
    "plt.scatter(X_train[pos, 0], X_train[pos, 1], c='red', marker='x', label='y=1')\n",
    "\n",
    "# Labels and legend\n",
    "plt.axis([0, 4, 0, 3.5])\n",
    "plt.ylabel('$x_1$', fontsize=12)\n",
    "plt.xlabel('$x_0$', fontsize=12)\n",
    "plt.legend()\n",
    "plt.show()"
   ]
  },
  {
   "cell_type": "markdown",
   "id": "babc7b29-0d42-4a72-a485-6d83134cd591",
   "metadata": {},
   "source": [
    "#### Prediction Function"
   ]
  },
  {
   "cell_type": "code",
   "execution_count": 7,
   "id": "f164ac0b-5a87-49d9-919d-df5be3583d3a",
   "metadata": {},
   "outputs": [],
   "source": [
    "def predicted_value(X, w, b):\n",
    "    return (np.dot(X,w) + b)"
   ]
  },
  {
   "cell_type": "markdown",
   "id": "1871019e-d7d3-426c-8272-e97c50bb1b93",
   "metadata": {},
   "source": [
    "#### Implementing sigmoid function"
   ]
  },
  {
   "cell_type": "code",
   "execution_count": 8,
   "id": "e681ad90-19bb-4289-8057-3d88c89005c4",
   "metadata": {},
   "outputs": [],
   "source": [
    "def sigmoid_function(z):\n",
    "    return 1 / (1 + np.exp(-z))"
   ]
  },
  {
   "cell_type": "markdown",
   "id": "6f9a8305-bc13-4f57-acc4-b66f4dcfc1ce",
   "metadata": {},
   "source": [
    "#### Implementing loss function"
   ]
  },
  {
   "cell_type": "code",
   "execution_count": 9,
   "id": "116e11a9-3853-4d03-9017-c2270b23cf93",
   "metadata": {},
   "outputs": [],
   "source": [
    "def loss_function(X, w, b, y):\n",
    "    f_wb_i = sigmoid_function(predicted_value(X,w,b))\n",
    "    loss = -y * np.log(f_wb_i) - (1-y) * np.log(1 - f_wb_i)\n",
    "    return loss"
   ]
  },
  {
   "cell_type": "markdown",
   "id": "c531c42b-0d0f-4c84-bbf4-6b8d46649ac9",
   "metadata": {},
   "source": [
    "#### Cost"
   ]
  },
  {
   "cell_type": "code",
   "execution_count": 10,
   "id": "eed4bc9c-926f-4081-bf7b-6c95bcc70472",
   "metadata": {},
   "outputs": [],
   "source": [
    "def cost(X, w, b, y):\n",
    "    #predicting values\n",
    "    z = np.dot(X, w) + b\n",
    "    #apply sigmoid function to all predicted values\n",
    "    f_wb = 1 / (1 + np.exp(-z))\n",
    "    #calculate all losses\n",
    "    loss = -y * np.log(f_wb) - (1-y) * np.log(1-f_wb)\n",
    "    #total loss is the average of all losses\n",
    "    total_loss = np.mean(loss)\n",
    "    return total_loss"
   ]
  },
  {
   "cell_type": "code",
   "execution_count": 11,
   "id": "b1f2ec39-496d-4eae-aef7-3091da6f92bc",
   "metadata": {},
   "outputs": [
    {
     "name": "stdout",
     "output_type": "stream",
     "text": [
      "0.36686678640551745\n"
     ]
    }
   ],
   "source": [
    "w_tmp = np.array([1,1])\n",
    "b_tmp = -3\n",
    "print(cost(X_train, w_tmp, b_tmp, y_train))"
   ]
  },
  {
   "cell_type": "markdown",
   "id": "1c2f74f0-4f9a-4644-ba91-558938084185",
   "metadata": {},
   "source": [
    "#### Compute Gradient"
   ]
  },
  {
   "cell_type": "code",
   "execution_count": 27,
   "id": "b384f298-8d67-4f59-85b7-ac2f97fbe19d",
   "metadata": {},
   "outputs": [],
   "source": [
    "def compute_gradient(X, w, b, y):\n",
    "    m = X.shape[0]\n",
    "    z = np.dot(X, w) + b\n",
    "    f_wb = 1 / (1 + np.exp(-z))\n",
    "    d_dw = np.dot((f_wb-y), X) / m\n",
    "    d_db = np.mean(f_wb - y)\n",
    "\n",
    "    return d_dw, d_db"
   ]
  },
  {
   "cell_type": "markdown",
   "id": "fb6c9e12-72d8-4724-816d-f8f4b92fff0c",
   "metadata": {},
   "source": [
    "#### Gradient Descent"
   ]
  },
  {
   "cell_type": "code",
   "execution_count": 32,
   "id": "88bdae6a-2ae0-4392-8b49-3ee7b6ad5af6",
   "metadata": {},
   "outputs": [],
   "source": [
    "def gradient_descent(X, w_init, b_init, y, alpha, num_iter):\n",
    "    #storing history of cost\n",
    "    J_history = []\n",
    "    #deep copy\n",
    "    w = copy.deepcopy(w_init)\n",
    "    b = b_init\n",
    "\n",
    "    for i in range(num_iter):\n",
    "        #calculate gradient using the parameters\n",
    "        d_dw, d_db = compute_gradient(X, w, b, y)\n",
    "\n",
    "        #updating parameters\n",
    "        w -= alpha * d_dw\n",
    "        b -= alpha * d_db\n",
    "\n",
    "        # Save cost J at each iteration\n",
    "        if i<100000:      # prevent resource exhaustion \n",
    "            J_history.append( cost(X, w, b, y) )\n",
    "\n",
    "        # Print cost every at intervals 10 times or as many iterations if < 10\n",
    "        if i% math.ceil(num_iter / 10) == 0:\n",
    "            print(f\"Iteration {i:4d}: Cost {J_history[-1]}   \")\n",
    "\n",
    "    return w, b, J_history"
   ]
  },
  {
   "cell_type": "code",
   "execution_count": 33,
   "id": "016402fc-fbf3-456e-9523-492fc4dc42c7",
   "metadata": {},
   "outputs": [
    {
     "name": "stdout",
     "output_type": "stream",
     "text": [
      "Iteration    0: Cost 0.684610468560574   \n",
      "Iteration 1000: Cost 0.1590977666870456   \n",
      "Iteration 2000: Cost 0.08460064176930084   \n",
      "Iteration 3000: Cost 0.05705327279402528   \n",
      "Iteration 4000: Cost 0.04290759421682   \n",
      "Iteration 5000: Cost 0.03433847729884565   \n",
      "Iteration 6000: Cost 0.02860379802212006   \n",
      "Iteration 7000: Cost 0.02450156960879306   \n",
      "Iteration 8000: Cost 0.02142370332569289   \n",
      "Iteration 9000: Cost 0.019030137124109094   \n",
      "\n",
      "updated parameters: w:[5.28123029 5.07815608], b:-14.222409982019839\n"
     ]
    }
   ],
   "source": [
    "w_tmp  = np.zeros_like(X_train[0])\n",
    "b_tmp  = 0.\n",
    "alph = 0.1\n",
    "iters = 10000\n",
    "\n",
    "w_out, b_out, _ = gradient_descent(X_train, w_tmp, b_tmp, y_train, alph, iters) \n",
    "print(f\"\\nupdated parameters: w:{w_out}, b:{b_out}\")"
   ]
  },
  {
   "cell_type": "markdown",
   "id": "ff881f78-e0e6-4419-a543-2b367eb0cb0d",
   "metadata": {},
   "source": [
    "#### Plotting"
   ]
  },
  {
   "cell_type": "code",
   "execution_count": 35,
   "id": "89c3bc80-e773-4dea-a1d8-2821f94b0e42",
   "metadata": {},
   "outputs": [
    {
     "ename": "NameError",
     "evalue": "name 'plt_prob' is not defined",
     "output_type": "error",
     "traceback": [
      "\u001b[1;31m---------------------------------------------------------------------------\u001b[0m",
      "\u001b[1;31mNameError\u001b[0m                                 Traceback (most recent call last)",
      "Cell \u001b[1;32mIn[35], line 3\u001b[0m\n\u001b[0;32m      1\u001b[0m fig,ax \u001b[38;5;241m=\u001b[39m plt\u001b[38;5;241m.\u001b[39msubplots(\u001b[38;5;241m1\u001b[39m,\u001b[38;5;241m1\u001b[39m,figsize\u001b[38;5;241m=\u001b[39m(\u001b[38;5;241m5\u001b[39m,\u001b[38;5;241m4\u001b[39m))\n\u001b[0;32m      2\u001b[0m \u001b[38;5;66;03m# plot the probability \u001b[39;00m\n\u001b[1;32m----> 3\u001b[0m \u001b[43mplt_prob\u001b[49m(ax, w_out, b_out)\n\u001b[0;32m      5\u001b[0m \u001b[38;5;66;03m# Plot the original data\u001b[39;00m\n\u001b[0;32m      6\u001b[0m ax\u001b[38;5;241m.\u001b[39mset_ylabel(\u001b[38;5;124mr\u001b[39m\u001b[38;5;124m'\u001b[39m\u001b[38;5;124m$x_1$\u001b[39m\u001b[38;5;124m'\u001b[39m)\n",
      "\u001b[1;31mNameError\u001b[0m: name 'plt_prob' is not defined"
     ]
    },
    {
     "data": {
      "image/png": "[encoded data removed]",
      "text/plain": [
       "<Figure size 500x400 with 1 Axes>"
      ]
     },
     "metadata": {},
     "output_type": "display_data"
    }
   ],
   "source": []
  },
  {
   "cell_type": "code",
   "execution_count": null,
   "id": "b9d82eb5-a449-430c-9ece-a1f89d0b49ca",
   "metadata": {},
   "outputs": [],
   "source": []
  }
 ],
 "metadata": {
  "kernelspec": {
   "display_name": "Python 3 (ipykernel)",
   "language": "python",
   "name": "python3"
  },
  "language_info": {
   "codemirror_mode": {
    "name": "ipython",
    "version": 3
   },
   "file_extension": ".py",
   "mimetype": "text/x-python",
   "name": "python",
   "nbconvert_exporter": "python",
   "pygments_lexer": "ipython3",
   "version": "3.10.5"
  }
 },
 "nbformat": 4,
 "nbformat_minor": 5
}
